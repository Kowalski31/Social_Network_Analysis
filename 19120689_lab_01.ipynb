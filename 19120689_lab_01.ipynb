{
  "cells": [
    {
      "cell_type": "markdown",
      "metadata": {
        "id": "Ub43Pemh9Ujx"
      },
      "source": [
        "# Student information"
      ]
    },
    {
      "cell_type": "markdown",
      "metadata": {
        "id": "dPPL5elX9ZRQ"
      },
      "source": [
        "Full name: Lại Khánh Toàn\n",
        "\n",
        "Student ID: 19120689"
      ]
    },
    {
      "cell_type": "markdown",
      "metadata": {
        "id": "CAPEjxjh9G8r"
      },
      "source": [
        "# Preparation"
      ]
    },
    {
      "cell_type": "markdown",
      "metadata": {
        "id": "5FN0wpojBIqF"
      },
      "source": [
        "## Download data"
      ]
    },
    {
      "cell_type": "code",
      "execution_count": 1,
      "metadata": {
        "colab": {
          "base_uri": "https://localhost:8080/"
        },
        "id": "Uvyc6kQU90Gy",
        "outputId": "f386a090-cd3b-4851-c82f-ce81b2eb3558"
      },
      "outputs": [
        {
          "output_type": "stream",
          "name": "stdout",
          "text": [
            "--2023-05-11 15:38:40--  https://raw.githubusercontent.com/ptpuyen1511/sna-lab01-twitch/master/musae_twitch_de.txt\n",
            "Resolving raw.githubusercontent.com (raw.githubusercontent.com)... 185.199.108.133, 185.199.109.133, 185.199.110.133, ...\n",
            "Connecting to raw.githubusercontent.com (raw.githubusercontent.com)|185.199.108.133|:443... connected.\n",
            "HTTP request sent, awaiting response... 200 OK\n",
            "Length: 1652993 (1.6M) [text/plain]\n",
            "Saving to: ‘musae_twitch_de.txt’\n",
            "\n",
            "musae_twitch_de.txt 100%[===================>]   1.58M  --.-KB/s    in 0.04s   \n",
            "\n",
            "2023-05-11 15:38:41 (37.8 MB/s) - ‘musae_twitch_de.txt’ saved [1652993/1652993]\n",
            "\n"
          ]
        }
      ],
      "source": [
        "!wget https://raw.githubusercontent.com/ptpuyen1511/sna-lab01-twitch/master/musae_twitch_de.txt"
      ]
    },
    {
      "cell_type": "markdown",
      "metadata": {
        "id": "xV4KF4x8BLBK"
      },
      "source": [
        "## Install necessary package"
      ]
    },
    {
      "cell_type": "code",
      "execution_count": 2,
      "metadata": {
        "colab": {
          "base_uri": "https://localhost:8080/"
        },
        "id": "JROHAX_X-fFL",
        "outputId": "d337a94d-75de-4cfb-dd91-bc2a277bedf2"
      },
      "outputs": [
        {
          "output_type": "stream",
          "name": "stdout",
          "text": [
            "Looking in indexes: https://pypi.org/simple, https://us-python.pkg.dev/colab-wheels/public/simple/\n",
            "Collecting nxviz==0.6.3\n",
            "  Downloading nxviz-0.6.3-py3-none-any.whl (20 kB)\n",
            "Requirement already satisfied: matplotlib>=3.3.3 in /usr/local/lib/python3.10/dist-packages (from nxviz==0.6.3) (3.7.1)\n",
            "Requirement already satisfied: more-itertools>=8.6.0 in /usr/local/lib/python3.10/dist-packages (from nxviz==0.6.3) (9.1.0)\n",
            "Requirement already satisfied: networkx>=2.5 in /usr/local/lib/python3.10/dist-packages (from nxviz==0.6.3) (3.1)\n",
            "Requirement already satisfied: numpy>=1.19.4 in /usr/local/lib/python3.10/dist-packages (from nxviz==0.6.3) (1.22.4)\n",
            "Requirement already satisfied: palettable>=3.3.0 in /usr/local/lib/python3.10/dist-packages (from nxviz==0.6.3) (3.3.3)\n",
            "Requirement already satisfied: pandas>=1.2.0 in /usr/local/lib/python3.10/dist-packages (from nxviz==0.6.3) (1.5.3)\n",
            "Requirement already satisfied: seaborn>=0.11.1 in /usr/local/lib/python3.10/dist-packages (from nxviz==0.6.3) (0.12.2)\n",
            "Requirement already satisfied: contourpy>=1.0.1 in /usr/local/lib/python3.10/dist-packages (from matplotlib>=3.3.3->nxviz==0.6.3) (1.0.7)\n",
            "Requirement already satisfied: cycler>=0.10 in /usr/local/lib/python3.10/dist-packages (from matplotlib>=3.3.3->nxviz==0.6.3) (0.11.0)\n",
            "Requirement already satisfied: fonttools>=4.22.0 in /usr/local/lib/python3.10/dist-packages (from matplotlib>=3.3.3->nxviz==0.6.3) (4.39.3)\n",
            "Requirement already satisfied: kiwisolver>=1.0.1 in /usr/local/lib/python3.10/dist-packages (from matplotlib>=3.3.3->nxviz==0.6.3) (1.4.4)\n",
            "Requirement already satisfied: packaging>=20.0 in /usr/local/lib/python3.10/dist-packages (from matplotlib>=3.3.3->nxviz==0.6.3) (23.1)\n",
            "Requirement already satisfied: pillow>=6.2.0 in /usr/local/lib/python3.10/dist-packages (from matplotlib>=3.3.3->nxviz==0.6.3) (8.4.0)\n",
            "Requirement already satisfied: pyparsing>=2.3.1 in /usr/local/lib/python3.10/dist-packages (from matplotlib>=3.3.3->nxviz==0.6.3) (3.0.9)\n",
            "Requirement already satisfied: python-dateutil>=2.7 in /usr/local/lib/python3.10/dist-packages (from matplotlib>=3.3.3->nxviz==0.6.3) (2.8.2)\n",
            "Requirement already satisfied: pytz>=2020.1 in /usr/local/lib/python3.10/dist-packages (from pandas>=1.2.0->nxviz==0.6.3) (2022.7.1)\n",
            "Requirement already satisfied: six>=1.5 in /usr/local/lib/python3.10/dist-packages (from python-dateutil>=2.7->matplotlib>=3.3.3->nxviz==0.6.3) (1.16.0)\n",
            "Installing collected packages: nxviz\n",
            "Successfully installed nxviz-0.6.3\n"
          ]
        }
      ],
      "source": [
        "!pip install nxviz==0.6.3"
      ]
    },
    {
      "cell_type": "markdown",
      "metadata": {
        "id": "JiqTZwdGBXRt"
      },
      "source": [
        "# Lab 01"
      ]
    },
    {
      "cell_type": "markdown",
      "metadata": {
        "id": "cmEvi45dBZYn"
      },
      "source": [
        "## Import necessary libraries and modules"
      ]
    },
    {
      "cell_type": "code",
      "execution_count": 3,
      "metadata": {
        "id": "DAry4OQNBbsU"
      },
      "outputs": [],
      "source": [
        "import networkx as nx\n",
        "import nxviz as nz\n",
        "import matplotlib.pyplot as plt\n",
        "import random\n",
        "from random import sample\n",
        "\n",
        "# Your import libraries\n",
        "from itertools import combinations\n",
        "from collections import defaultdict\n",
        "\n",
        "from itertools import cycle\n",
        "# from nxviz import annotate"
      ]
    },
    {
      "cell_type": "markdown",
      "metadata": {
        "id": "Ez0lPu6HBm4R"
      },
      "source": [
        "## Question 1:\n",
        "Create a graph from the provided file. Then make the following basic information statistics: graph type of this social network, the total number of users and the total number of friendships available in this network."
      ]
    },
    {
      "cell_type": "markdown",
      "metadata": {
        "id": "1eBbylFlCLgx"
      },
      "source": [
        "### Create graph G from file"
      ]
    },
    {
      "cell_type": "code",
      "execution_count": 4,
      "metadata": {
        "id": "StBzrG6UBtTz"
      },
      "outputs": [],
      "source": [
        "G = nx.read_adjlist(\"/content/musae_twitch_de.txt\",create_using=nx.Graph(), nodetype = int)\n",
        "\n",
        "# G.nodes()\n",
        "#YOUR CODE HERE"
      ]
    },
    {
      "cell_type": "markdown",
      "metadata": {
        "id": "jKAFI2IYCTab"
      },
      "source": [
        "### The type of graph G"
      ]
    },
    {
      "cell_type": "code",
      "execution_count": 5,
      "metadata": {
        "colab": {
          "base_uri": "https://localhost:8080/"
        },
        "id": "eypwuL9lCX-7",
        "outputId": "ebb46224-7874-4e63-df45-1c01d24a7aef"
      },
      "outputs": [
        {
          "output_type": "execute_result",
          "data": {
            "text/plain": [
              "networkx.classes.graph.Graph"
            ]
          },
          "metadata": {},
          "execution_count": 5
        }
      ],
      "source": [
        "#YOUR CODE HERE\n",
        "type(G)"
      ]
    },
    {
      "cell_type": "markdown",
      "metadata": {
        "id": "8aPFdlMGsuRr"
      },
      "source": [
        "### The total number of users"
      ]
    },
    {
      "cell_type": "code",
      "execution_count": 6,
      "metadata": {
        "colab": {
          "base_uri": "https://localhost:8080/"
        },
        "id": "1UmsasY7syt7",
        "outputId": "8c61d7c3-8c51-4e01-9dca-90e8656d5b89"
      },
      "outputs": [
        {
          "output_type": "stream",
          "name": "stdout",
          "text": [
            "9498\n"
          ]
        }
      ],
      "source": [
        "#YOUR CODE HERE\n",
        "print(len(G.nodes()))"
      ]
    },
    {
      "cell_type": "markdown",
      "metadata": {
        "id": "NmATdXd2s1JG"
      },
      "source": [
        "### The total number of friendships"
      ]
    },
    {
      "cell_type": "code",
      "execution_count": 7,
      "metadata": {
        "colab": {
          "base_uri": "https://localhost:8080/"
        },
        "id": "rJpM4JyAs6JK",
        "outputId": "581349f8-0282-45ec-9e40-b72c3bee9652"
      },
      "outputs": [
        {
          "output_type": "stream",
          "name": "stdout",
          "text": [
            "153138\n"
          ]
        }
      ],
      "source": [
        "#YOUR CODE HERE\n",
        "print(len(G.edges()))"
      ]
    },
    {
      "cell_type": "markdown",
      "metadata": {
        "id": "nrfqCfRaC5oi"
      },
      "source": [
        "## Question 2:\n",
        "Checks whether the two users are related to each other. The two users are considered to be related when and only if there is a path between the two nodes representing the two users."
      ]
    },
    {
      "cell_type": "markdown",
      "metadata": {
        "id": "m6zwxKQuDTpa"
      },
      "source": [
        "### Funtion path_exists(G, node1, node2)"
      ]
    },
    {
      "cell_type": "code",
      "execution_count": 8,
      "metadata": {
        "id": "pgrBCxE7D5r6"
      },
      "outputs": [],
      "source": [
        "def related(G, node1, node2):\n",
        "    '''\n",
        "    Checks whether there exists a path between node1 and node2 in graph G\n",
        "\n",
        "    ---Inputs:\n",
        "        G:      networkx.classes.graph.Graph\n",
        "                The graph contains 2 nodes that need to be checked\n",
        "        node1:  str\n",
        "                ID of the node1 (user1) to check\n",
        "        node2:  str\n",
        "                ID of the node2 (user2) to check\n",
        "\n",
        "\n",
        "    ---Return:\n",
        "        is_related: <bool>\n",
        "                    True if there exists a path between the two nodes\n",
        "                    False otherwise\n",
        "        num_nodes:  <int>\n",
        "                    Number of nodes node1 goes through to get to node2\n",
        "                    If is_ralated == False -> num_nodes = -1\n",
        "                      \n",
        "    '''\n",
        "        \n",
        "    #YOUR CODE HERE\n",
        "    \n",
        "    num_nodes = 0\n",
        "\n",
        "    vistited_nodes = set()\n",
        "    queue = [node1] \n",
        "\n",
        "    for node in queue:\n",
        "        neighbors = list(G.neighbors(node))\n",
        "        if node2 in neighbors:\n",
        "            return True, num_nodes\n",
        "            break\n",
        "        else:\n",
        "            vistited_nodes.add(node)\n",
        "            queue.extend([n for n in neighbors if n not in vistited_nodes])\n",
        "            num_nodes += 1\n",
        "        if node == queue[-1]:\n",
        "            return False, -1\n",
        "            break\n",
        "\n"
      ]
    },
    {
      "cell_type": "markdown",
      "metadata": {
        "id": "vutUrVL9D6LV"
      },
      "source": [
        "### Check funtion"
      ]
    },
    {
      "cell_type": "code",
      "execution_count": 9,
      "metadata": {
        "colab": {
          "base_uri": "https://localhost:8080/"
        },
        "id": "muf_apQ1PM4k",
        "outputId": "47aac669-6303-4623-8ce4-ced62b85206b"
      },
      "outputs": [
        {
          "output_type": "execute_result",
          "data": {
            "text/plain": [
              "(True, 2)"
            ]
          },
          "metadata": {},
          "execution_count": 9
        }
      ],
      "source": [
        "related(G, 7, 15)"
      ]
    },
    {
      "cell_type": "code",
      "execution_count": 10,
      "metadata": {
        "colab": {
          "base_uri": "https://localhost:8080/"
        },
        "id": "aDDLVQS3EKH5",
        "outputId": "0bf0e2b9-c6e0-43ec-deea-23f7acea3773"
      },
      "outputs": [
        {
          "output_type": "execute_result",
          "data": {
            "text/plain": [
              "(False, -1)"
            ]
          },
          "metadata": {},
          "execution_count": 10
        }
      ],
      "source": [
        "related(G, 3, 452)"
      ]
    },
    {
      "cell_type": "markdown",
      "metadata": {
        "id": "qdVk9G3GExcD"
      },
      "source": [
        "## Question 3:\n",
        "Find important users in this social network according to 2 characteristics:\n",
        "\n",
        "1.   Degree centrality\n",
        "2.   Betweenness centrality\n",
        "\n"
      ]
    },
    {
      "cell_type": "markdown",
      "metadata": {
        "id": "-JZmhbAIFLJu"
      },
      "source": [
        "### With degree centrality"
      ]
    },
    {
      "cell_type": "code",
      "execution_count": 11,
      "metadata": {
        "colab": {
          "base_uri": "https://localhost:8080/"
        },
        "id": "mX102AXfGYki",
        "outputId": "c20e8956-26b7-4b9e-fba8-003edc110126"
      },
      "outputs": [
        {
          "output_type": "stream",
          "name": "stdout",
          "text": [
            "The user(s) with the most friends: 7787\n",
            "Degree_centrality: 0.44845740760240077\n",
            "The number of friends: 4259\n"
          ]
        }
      ],
      "source": [
        "# Calculate degree centralities\n",
        "deg_cent = nx.degree_centrality(G)\n",
        "\n",
        "# Find max value of degree centralities\n",
        "max_dc = max(list(deg_cent.values()))\n",
        "\n",
        "# Find user(s) who have the most friends\n",
        "for k, v in deg_cent.items():\n",
        "  if v == max_dc:\n",
        "    most_voted_users = k\n",
        "\n",
        "# Display user(s) who have the most friends\n",
        "print('The user(s) with the most friends: ' + str(most_voted_users))\n",
        "print('Degree_centrality: ' + str(max_dc))\n",
        "print('The number of friends: '+ str(len(list(G.neighbors(most_voted_users)))))"
      ]
    },
    {
      "cell_type": "markdown",
      "metadata": {
        "id": "L5T2KnX4HSTX"
      },
      "source": [
        "### With betweenness centrality"
      ]
    },
    {
      "cell_type": "code",
      "execution_count": 12,
      "metadata": {
        "id": "ANOP_cywmmXi"
      },
      "outputs": [],
      "source": [
        "# DO NOT CHANGE CODE IN THIS CELL\n",
        "# Create sub graph for calculating betweenness centrality\n",
        "random.seed(42)\n",
        "random_nodes = sample(list(G.nodes()), 1000)\n",
        "subG = G.subgraph(random_nodes)"
      ]
    },
    {
      "cell_type": "markdown",
      "metadata": {
        "id": "M79CKjafo8LT"
      },
      "source": [
        "<font color='red'><ins>Note</ins>: Student MUST calculate betweenness centralities for subG</font>"
      ]
    },
    {
      "cell_type": "code",
      "execution_count": 13,
      "metadata": {
        "colab": {
          "base_uri": "https://localhost:8080/"
        },
        "id": "T8Uj8USSHZxG",
        "outputId": "d4954d22-1e89-49ce-dc60-69e763f3411d"
      },
      "outputs": [
        {
          "output_type": "stream",
          "name": "stdout",
          "text": [
            "The user(s) with the most friends in sub network: 2498\n",
            "Betweenness_centrality: 0.11606447647120414\n",
            "The number of friends: 100\n"
          ]
        }
      ],
      "source": [
        "# Calculate betweenness centralities for subG\n",
        "bet_cent = nx.betweenness_centrality(subG)\n",
        "\n",
        "# Find max value of betweenness centralities\n",
        "max_bc = max(list(bet_cent.values()))\n",
        "\n",
        "# Find user(s) who have the most friends\n",
        "for k2, v2 in bet_cent.items():\n",
        "  if v2 == max_bc:\n",
        "    most_friends_users = k2 \n",
        "\n",
        "# Display user(s) who have the most friends\n",
        "print('The user(s) with the most friends in sub network: ' + str(most_friends_users))\n",
        "print('Betweenness_centrality: ' + str(max_bc))\n",
        "print('The number of friends: '+ str(len(list(subG.neighbors(most_friends_users)))))"
      ]
    },
    {
      "cell_type": "markdown",
      "metadata": {
        "id": "AaeW6Xa9Mn_-"
      },
      "source": [
        "## Question 4:\n",
        "Find abritary community in this social network and visualize it."
      ]
    },
    {
      "cell_type": "markdown",
      "metadata": {
        "id": "RZixp6B5NAiA"
      },
      "source": [
        "### Function find_abritary_clique()"
      ]
    },
    {
      "cell_type": "code",
      "execution_count": 14,
      "metadata": {
        "id": "Mn1o7W5BxtEf"
      },
      "outputs": [],
      "source": [
        "def find_abritary_clique(G):\n",
        "    '''\n",
        "    Find abritary community in graph G\n",
        "\n",
        "    --- Inputs:\n",
        "        - G:    networkx.classes.graph.Graph\n",
        "                The graph you want to search the community\n",
        "\n",
        "    --- Returns:\n",
        "        Any one of the first 50 found communities of graph G\n",
        "    '''\n",
        "\n",
        "    #YOUR CODE HERE\n",
        "    mcs = []\n",
        "    for clique in list(nx.find_cliques(G)):\n",
        "      if len(clique) >= 3:\n",
        "        mcs.append(clique)\n",
        "\n",
        "    random.shuffle(mcs)\n",
        "\n",
        "    return random.choice(mcs[:50])\n",
        "                   "
      ]
    },
    {
      "cell_type": "markdown",
      "metadata": {
        "id": "V6RpWM8ey46N"
      },
      "source": [
        "### Find abritary clique"
      ]
    },
    {
      "cell_type": "code",
      "execution_count": 15,
      "metadata": {
        "id": "8j1HM68ay8Hr",
        "colab": {
          "base_uri": "https://localhost:8080/"
        },
        "outputId": "38684de3-0a02-4d03-cf22-1ffee40c2748"
      },
      "outputs": [
        {
          "output_type": "stream",
          "name": "stdout",
          "text": [
            "[2980, 8803, 2816, 2732, 4139, 2381, 3066]\n"
          ]
        }
      ],
      "source": [
        "# Find abritary clique in this social network\n",
        "abritary_clique = find_abritary_clique(G)\n",
        "print(abritary_clique)"
      ]
    },
    {
      "cell_type": "markdown",
      "metadata": {
        "id": "NP5bk0ZczEZr"
      },
      "source": [
        "### Visualize it"
      ]
    },
    {
      "cell_type": "code",
      "source": [
        "# 14 categories\n",
        "categories = [\n",
        "    \"sun\",\n",
        "    \"moon\",\n",
        "    \"stars\",\n",
        "    \"cloud\",\n",
        "    \"wheel\",\n",
        "    \"box\",\n",
        "    \"plant\",\n",
        "    \"chair\",\n",
        "    \"slippers\",\n",
        "    \"tablet\",\n",
        "    \"laptop\",\n",
        "    \"dishwasher\",\n",
        "    \"bicycle\",\n",
        "    \"piano\",\n",
        "    \"laptop\",\n",
        "]\n",
        "\n",
        "# 20 colors - providing an uneven list on purpose\n",
        "palette = [\n",
        "    \"#1f77b4\",\n",
        "    \"#ff7f0e\",\n",
        "    \"#279e68\",\n",
        "    \"#d62728\",\n",
        "    \"#aa40fc\",\n",
        "    \"#8c564b\",\n",
        "    \"#e377c2\",\n",
        "    \"#b5bd61\",\n",
        "    \"#17becf\",\n",
        "    \"#aec7e8\",\n",
        "    \"#ffbb78\",\n",
        "    \"#98df8a\",\n",
        "    \"#ff9896\",\n",
        "    \"#c5b0d5\",\n",
        "    \"#c49c94\",\n",
        "    \"#f7b6d2\",\n",
        "    \"#dbdb8d\",\n",
        "    \"#9edae5\",\n",
        "    \"#ad494a\",\n",
        "    \"#8c6d31\",\n",
        "]\n",
        "\n",
        "categorical = cycle(categories[0:4]) # max 4 distinct categories\n",
        "categories[0:4]\n",
        "# ['sun', 'moon', 'stars', 'cloud']\n",
        "many_categorical = cycle(categories) # up to 14\n"
      ],
      "metadata": {
        "id": "FThOxebtwhAp"
      },
      "execution_count": 16,
      "outputs": []
    },
    {
      "cell_type": "code",
      "execution_count": 21,
      "metadata": {
        "id": "FP7k2uzFzG9f",
        "colab": {
          "base_uri": "https://localhost:8080/",
          "height": 499
        },
        "outputId": "183fa945-e9a3-415c-a71b-7380281d189f"
      },
      "outputs": [
        {
          "output_type": "display_data",
          "data": {
            "text/plain": [
              "<Figure size 600x600 with 1 Axes>"
            ],
            "image/png": "[encoded data removed]"
          },
          "metadata": {}
        }
      ],
      "source": [
        "# Create subgraph from above abritary clique\n",
        "G_ac = G.subgraph(abritary_clique) \n",
        "\n",
        "# Creat CircosPlot\n",
        "#YOUR CODE HERE\n",
        "from nxviz import CircosPlot\n",
        "for n, d in G_ac.nodes(data=True):\n",
        "  G_ac.nodes[n]['degree'] = nx.degree(G_ac, n)\n",
        "\n",
        "n = 71\n",
        "p = 0.01\n",
        "G_ac = nx.erdos_renyi_graph(n=n, p=p)\n",
        "\n",
        "for n in G_ac.nodes():\n",
        "    G_ac.nodes[n][\"group1\"] = next(categorical)\n",
        "    G_ac.nodes[n][\"group2\"] = next(many_categorical)\n",
        "\n",
        "# Visualize\n",
        "#YOUR CODE HERE\n",
        "c = CircosPlot(G_ac, node_color_by='group1', node_labels=True, order_by='degree')\n",
        "\n",
        "c.draw()\n",
        "plt.show()"
      ]
    },
    {
      "cell_type": "markdown",
      "metadata": {
        "id": "XB9DcvXiz1-J"
      },
      "source": [
        "## Question 5:\n",
        "Builds a friends suggestion system for users on this social network using the concept of `open triangles`."
      ]
    },
    {
      "cell_type": "markdown",
      "metadata": {
        "id": "uN8CWbTd0Nra"
      },
      "source": [
        "### Function recommended_system"
      ]
    },
    {
      "cell_type": "code",
      "execution_count": 18,
      "metadata": {
        "id": "R9A_7x2S0XUL"
      },
      "outputs": [],
      "source": [
        "from math import comb\n",
        "def recommended_system(G, k):\n",
        "    '''\n",
        "    The function suggests top k pairs of users most likely to make friend.\n",
        "\n",
        "    --- Inputs:\n",
        "        - G:    networkx.classes.graph.Graph\n",
        "                The graph (social network) wants to make the recommendation\n",
        "\n",
        "        - k:    int\n",
        "                Top k pairs of users who need suggestion\n",
        "\n",
        "    --- Returns:\n",
        "        topk_pairs: list [tuple(str, str)]\n",
        "                    List of top k pairs of users most likely to make friend.\n",
        "    '''\n",
        "\n",
        "    #YOUR CODE HERE\n",
        "    # Find all pairs of users who are not friends\n",
        "    recommended = defaultdict(int)\n",
        "\n",
        "    for n, d in G.nodes(data=True):\n",
        "      for n1, n2 in combinations(G.neighbors(n), 2):\n",
        "        if not G.has_edge(n1, n2):\n",
        "          recommended[(n1, n2)] += 1\n",
        "\n",
        "    all_counts = sorted(recommended.values())\n",
        "    topk_pairs = [pair for pair, count in recommended.items() if count > all_counts[-k]]\n",
        "\n",
        "    return topk_pairs\n"
      ]
    },
    {
      "cell_type": "markdown",
      "metadata": {
        "id": "2PEP43t31eay"
      },
      "source": [
        "### Check funtion"
      ]
    },
    {
      "cell_type": "code",
      "execution_count": 19,
      "metadata": {
        "id": "WdnpocaG4ZJD"
      },
      "outputs": [],
      "source": [
        "# DO NOT CHANGE CODE IN THIS CELL\n",
        "# Create sub graph for recommendation\n",
        "random.seed(42)\n",
        "random_nodes = sample(list(G.nodes()), 5000)\n",
        "subG = G.subgraph(random_nodes)"
      ]
    },
    {
      "cell_type": "markdown",
      "metadata": {
        "id": "Y4DVPYgY4ZJK"
      },
      "source": [
        "<font color='red'><ins>Note</ins>: Student MUST create recommendation system with subG</font>"
      ]
    },
    {
      "cell_type": "code",
      "execution_count": 20,
      "metadata": {
        "id": "bW-zwwNS1iqL",
        "colab": {
          "base_uri": "https://localhost:8080/"
        },
        "outputId": "aeae4f3d-939d-4df9-b780-f48def0440d9"
      },
      "outputs": [
        {
          "output_type": "stream",
          "name": "stdout",
          "text": [
            "The top 3 user-pairs that can make friend each other: \n",
            "[(2980, 9206), (4038, 8803)]\n"
          ]
        }
      ],
      "source": [
        "top3_pairs = recommended_system(subG, 3)\n",
        "\n",
        "print('The top 3 user-pairs that can make friend each other: ')\n",
        "print(top3_pairs)"
      ]
    },
    {
      "cell_type": "markdown",
      "metadata": {
        "id": "jSx_2Qz51u2X"
      },
      "source": [
        "---\n",
        "<center>THE END</center>\n",
        "\n"
      ]
    }
  ],
  "metadata": {
    "colab": {
      "provenance": []
    },
    "kernelspec": {
      "display_name": "Python 3",
      "language": "python",
      "name": "python3"
    },
    "language_info": {
      "codemirror_mode": {
        "name": "ipython",
        "version": 3
      },
      "file_extension": ".py",
      "mimetype": "text/x-python",
      "name": "python",
      "nbconvert_exporter": "python",
      "pygments_lexer": "ipython3",
      "version": "3.8.8"
    }
  },
  "nbformat": 4,
  "nbformat_minor": 0
}