{
  "cells": [
    {
      "cell_type": "markdown",
      "metadata": {
        "id": "Ub43Pemh9Ujx"
      },
      "source": [
        "# Student information"
      ]
    },
    {
      "cell_type": "markdown",
      "metadata": {
        "id": "dPPL5elX9ZRQ"
      },
      "source": [
        "Full name: Lại Khánh Toàn\n",
        "\n",
        "Student ID: 19120689"
      ]
    },
    {
      "cell_type": "markdown",
      "metadata": {
        "id": "CAPEjxjh9G8r"
      },
      "source": [
        "# Preparation"
      ]
    },
    {
      "cell_type": "markdown",
      "metadata": {
        "id": "5FN0wpojBIqF"
      },
      "source": [
        "## Download data"
      ]
    },
    {
      "cell_type": "code",
      "execution_count": 1,
      "metadata": {
        "colab": {
          "base_uri": "https://localhost:8080/"
        },
        "id": "Uvyc6kQU90Gy",
        "outputId": "71349aa4-9660-4109-c7a8-b82d33f307a7"
      },
      "outputs": [
        {
          "output_type": "stream",
          "name": "stdout",
          "text": [
            "--2023-05-08 14:09:40--  https://raw.githubusercontent.com/ptpuyen1511/sna-lab01-twitch/master/musae_twitch_de.txt\n",
            "Resolving raw.githubusercontent.com (raw.githubusercontent.com)... 185.199.108.133, 185.199.109.133, 185.199.110.133, ...\n",
            "Connecting to raw.githubusercontent.com (raw.githubusercontent.com)|185.199.108.133|:443... connected.\n",
            "HTTP request sent, awaiting response... 200 OK\n",
            "Length: 1652993 (1.6M) [text/plain]\n",
            "Saving to: ‘musae_twitch_de.txt’\n",
            "\n",
            "musae_twitch_de.txt 100%[===================>]   1.58M  --.-KB/s    in 0.07s   \n",
            "\n",
            "2023-05-08 14:09:41 (23.8 MB/s) - ‘musae_twitch_de.txt’ saved [1652993/1652993]\n",
            "\n"
          ]
        }
      ],
      "source": [
        "!wget https://raw.githubusercontent.com/ptpuyen1511/sna-lab01-twitch/master/musae_twitch_de.txt"
      ]
    },
    {
      "cell_type": "markdown",
      "metadata": {
        "id": "xV4KF4x8BLBK"
      },
      "source": [
        "## Install necessary package"
      ]
    },
    {
      "cell_type": "code",
      "execution_count": 2,
      "metadata": {
        "colab": {
          "base_uri": "https://localhost:8080/"
        },
        "id": "JROHAX_X-fFL",
        "outputId": "77aa4f87-4185-419a-c225-14c2f173f61a"
      },
      "outputs": [
        {
          "output_type": "stream",
          "name": "stdout",
          "text": [
            "Looking in indexes: https://pypi.org/simple, https://us-python.pkg.dev/colab-wheels/public/simple/\n",
            "Collecting nxviz\n",
            "  Downloading nxviz-0.7.4-py3-none-any.whl (28 kB)\n",
            "Requirement already satisfied: palettable>=3.3.0 in /usr/local/lib/python3.10/dist-packages (from nxviz) (3.3.3)\n",
            "Requirement already satisfied: pandas>=1.2.0 in /usr/local/lib/python3.10/dist-packages (from nxviz) (1.5.3)\n",
            "Requirement already satisfied: numpy>=1.19.4 in /usr/local/lib/python3.10/dist-packages (from nxviz) (1.22.4)\n",
            "Requirement already satisfied: seaborn>=0.11.1 in /usr/local/lib/python3.10/dist-packages (from nxviz) (0.12.2)\n",
            "Requirement already satisfied: networkx>=2.5 in /usr/local/lib/python3.10/dist-packages (from nxviz) (3.1)\n",
            "Requirement already satisfied: matplotlib>=3.3.3 in /usr/local/lib/python3.10/dist-packages (from nxviz) (3.7.1)\n",
            "Requirement already satisfied: more-itertools>=8.6.0 in /usr/local/lib/python3.10/dist-packages (from nxviz) (9.1.0)\n",
            "Requirement already satisfied: python-dateutil>=2.7 in /usr/local/lib/python3.10/dist-packages (from matplotlib>=3.3.3->nxviz) (2.8.2)\n",
            "Requirement already satisfied: kiwisolver>=1.0.1 in /usr/local/lib/python3.10/dist-packages (from matplotlib>=3.3.3->nxviz) (1.4.4)\n",
            "Requirement already satisfied: contourpy>=1.0.1 in /usr/local/lib/python3.10/dist-packages (from matplotlib>=3.3.3->nxviz) (1.0.7)\n",
            "Requirement already satisfied: pyparsing>=2.3.1 in /usr/local/lib/python3.10/dist-packages (from matplotlib>=3.3.3->nxviz) (3.0.9)\n",
            "Requirement already satisfied: packaging>=20.0 in /usr/local/lib/python3.10/dist-packages (from matplotlib>=3.3.3->nxviz) (23.1)\n",
            "Requirement already satisfied: cycler>=0.10 in /usr/local/lib/python3.10/dist-packages (from matplotlib>=3.3.3->nxviz) (0.11.0)\n",
            "Requirement already satisfied: fonttools>=4.22.0 in /usr/local/lib/python3.10/dist-packages (from matplotlib>=3.3.3->nxviz) (4.39.3)\n",
            "Requirement already satisfied: pillow>=6.2.0 in /usr/local/lib/python3.10/dist-packages (from matplotlib>=3.3.3->nxviz) (8.4.0)\n",
            "Requirement already satisfied: pytz>=2020.1 in /usr/local/lib/python3.10/dist-packages (from pandas>=1.2.0->nxviz) (2022.7.1)\n",
            "Requirement already satisfied: six>=1.5 in /usr/local/lib/python3.10/dist-packages (from python-dateutil>=2.7->matplotlib>=3.3.3->nxviz) (1.16.0)\n",
            "Installing collected packages: nxviz\n",
            "Successfully installed nxviz-0.7.4\n"
          ]
        }
      ],
      "source": [
        "!pip install nxviz"
      ]
    },
    {
      "cell_type": "markdown",
      "metadata": {
        "id": "JiqTZwdGBXRt"
      },
      "source": [
        "# Lab 01"
      ]
    },
    {
      "cell_type": "markdown",
      "metadata": {
        "id": "cmEvi45dBZYn"
      },
      "source": [
        "## Import necessary libraries and modules"
      ]
    },
    {
      "cell_type": "code",
      "execution_count": 3,
      "metadata": {
        "id": "DAry4OQNBbsU",
        "colab": {
          "base_uri": "https://localhost:8080/"
        },
        "outputId": "38cff3f3-545b-47ee-ae61-5f53d1bdae08"
      },
      "outputs": [
        {
          "output_type": "stream",
          "name": "stderr",
          "text": [
            "/usr/local/lib/python3.10/dist-packages/nxviz/__init__.py:18: UserWarning: \n",
            "nxviz has a new API! Version 0.7.4 onwards, the old class-based API is being\n",
            "deprecated in favour of a new API focused on advancing a grammar of network\n",
            "graphics. If your plotting code depends on the old API, please consider\n",
            "pinning nxviz at version 0.7.4, as the new API will break your old code.\n",
            "\n",
            "To check out the new API, please head over to the docs at\n",
            "https://ericmjl.github.io/nxviz/ to learn more. We hope you enjoy using it!\n",
            "\n",
            "(This deprecation message will go away in version 1.0.)\n",
            "\n",
            "  warnings.warn(\n"
          ]
        }
      ],
      "source": [
        "import networkx as nx\n",
        "import nxviz as nz\n",
        "import matplotlib.pyplot as plt\n",
        "import random\n",
        "from random import sample\n",
        "\n",
        "# Your import libraries"
      ]
    },
    {
      "cell_type": "markdown",
      "metadata": {
        "id": "Ez0lPu6HBm4R"
      },
      "source": [
        "## Question 1:\n",
        "Create a graph from the provided file. Then make the following basic information statistics: graph type of this social network, the total number of users and the total number of friendships available in this network."
      ]
    },
    {
      "cell_type": "markdown",
      "metadata": {
        "id": "1eBbylFlCLgx"
      },
      "source": [
        "### Create graph G from file"
      ]
    },
    {
      "cell_type": "code",
      "execution_count": 4,
      "metadata": {
        "id": "StBzrG6UBtTz"
      },
      "outputs": [],
      "source": [
        "G = nx.read_adjlist(\"/content/musae_twitch_de.txt\",create_using=nx.Graph(), nodetype = int)\n",
        "\n",
        "# G.nodes()\n",
        "#YOUR CODE HERE"
      ]
    },
    {
      "cell_type": "markdown",
      "metadata": {
        "id": "jKAFI2IYCTab"
      },
      "source": [
        "### The type of graph G"
      ]
    },
    {
      "cell_type": "code",
      "execution_count": 5,
      "metadata": {
        "colab": {
          "base_uri": "https://localhost:8080/"
        },
        "id": "eypwuL9lCX-7",
        "outputId": "51f0273d-8386-46bb-fa1c-8fc1b625b2d8"
      },
      "outputs": [
        {
          "output_type": "execute_result",
          "data": {
            "text/plain": [
              "networkx.classes.graph.Graph"
            ]
          },
          "metadata": {},
          "execution_count": 5
        }
      ],
      "source": [
        "#YOUR CODE HERE\n",
        "type(G)"
      ]
    },
    {
      "cell_type": "markdown",
      "metadata": {
        "id": "8aPFdlMGsuRr"
      },
      "source": [
        "### The total number of users"
      ]
    },
    {
      "cell_type": "code",
      "execution_count": 6,
      "metadata": {
        "colab": {
          "base_uri": "https://localhost:8080/"
        },
        "id": "1UmsasY7syt7",
        "outputId": "e7b9432b-b668-4d2f-a08b-6a1bcd4e5b00"
      },
      "outputs": [
        {
          "output_type": "stream",
          "name": "stdout",
          "text": [
            "9498\n"
          ]
        }
      ],
      "source": [
        "#YOUR CODE HERE\n",
        "print(len(G.nodes()))"
      ]
    },
    {
      "cell_type": "markdown",
      "metadata": {
        "id": "NmATdXd2s1JG"
      },
      "source": [
        "### The total number of friendships"
      ]
    },
    {
      "cell_type": "code",
      "execution_count": 7,
      "metadata": {
        "colab": {
          "base_uri": "https://localhost:8080/"
        },
        "id": "rJpM4JyAs6JK",
        "outputId": "9931583b-2126-4c4c-a127-d4aab104dfba"
      },
      "outputs": [
        {
          "output_type": "stream",
          "name": "stdout",
          "text": [
            "153138\n"
          ]
        }
      ],
      "source": [
        "#YOUR CODE HERE\n",
        "print(len(G.edges()))"
      ]
    },
    {
      "cell_type": "markdown",
      "metadata": {
        "id": "nrfqCfRaC5oi"
      },
      "source": [
        "## Question 2:\n",
        "Checks whether the two users are related to each other. The two users are considered to be related when and only if there is a path between the two nodes representing the two users."
      ]
    },
    {
      "cell_type": "markdown",
      "metadata": {
        "id": "m6zwxKQuDTpa"
      },
      "source": [
        "### Funtion path_exists(G, node1, node2)"
      ]
    },
    {
      "cell_type": "code",
      "execution_count": 8,
      "metadata": {
        "id": "pgrBCxE7D5r6"
      },
      "outputs": [],
      "source": [
        "def related(G, node1, node2):\n",
        "    '''\n",
        "    Checks whether there exists a path between node1 and node2 in graph G\n",
        "\n",
        "    ---Inputs:\n",
        "        G:      networkx.classes.graph.Graph\n",
        "                The graph contains 2 nodes that need to be checked\n",
        "        node1:  str\n",
        "                ID of the node1 (user1) to check\n",
        "        node2:  str\n",
        "                ID of the node2 (user2) to check\n",
        "\n",
        "\n",
        "    ---Return:\n",
        "        is_related: <bool>\n",
        "                    True if there exists a path between the two nodes\n",
        "                    False otherwise\n",
        "        num_nodes:  <int>\n",
        "                    Number of nodes node1 goes through to get to node2\n",
        "                    If is_ralated == False -> num_nodes = -1\n",
        "                      \n",
        "    '''\n",
        "        \n",
        "    #YOUR CODE HERE\n",
        "    \n",
        "    num_nodes = 0\n",
        "\n",
        "    vistited_nodes = set()\n",
        "    queue = [node1] \n",
        "\n",
        "    for node in queue:\n",
        "        neighbors = list(G.neighbors(node))\n",
        "        if node2 in neighbors:\n",
        "            return True, num_nodes\n",
        "            break\n",
        "        else:\n",
        "            vistited_nodes.add(node)\n",
        "            queue.extend([n for n in neighbors if n not in vistited_nodes])\n",
        "            num_nodes += 1\n",
        "        if node == queue[-1]:\n",
        "            return False, -1\n",
        "            break\n",
        "\n"
      ]
    },
    {
      "cell_type": "markdown",
      "metadata": {
        "id": "vutUrVL9D6LV"
      },
      "source": [
        "### Check funtion"
      ]
    },
    {
      "cell_type": "code",
      "execution_count": 9,
      "metadata": {
        "colab": {
          "base_uri": "https://localhost:8080/"
        },
        "id": "muf_apQ1PM4k",
        "outputId": "2bc7adb2-db51-4abe-ad26-4e2a20fd7b8a"
      },
      "outputs": [
        {
          "output_type": "execute_result",
          "data": {
            "text/plain": [
              "(True, 2)"
            ]
          },
          "metadata": {},
          "execution_count": 9
        }
      ],
      "source": [
        "related(G, 7, 15)"
      ]
    },
    {
      "cell_type": "code",
      "execution_count": 10,
      "metadata": {
        "colab": {
          "base_uri": "https://localhost:8080/"
        },
        "id": "aDDLVQS3EKH5",
        "outputId": "18d98503-5d1f-418c-ebf1-b782aaab1b67"
      },
      "outputs": [
        {
          "output_type": "execute_result",
          "data": {
            "text/plain": [
              "(False, -1)"
            ]
          },
          "metadata": {},
          "execution_count": 10
        }
      ],
      "source": [
        "related(G, 3, 452)"
      ]
    },
    {
      "cell_type": "markdown",
      "metadata": {
        "id": "qdVk9G3GExcD"
      },
      "source": [
        "## Question 3:\n",
        "Find important users in this social network according to 2 characteristics:\n",
        "\n",
        "1.   Degree centrality\n",
        "2.   Betweenness centrality\n",
        "\n"
      ]
    },
    {
      "cell_type": "markdown",
      "metadata": {
        "id": "-JZmhbAIFLJu"
      },
      "source": [
        "### With degree centrality"
      ]
    },
    {
      "cell_type": "code",
      "execution_count": 11,
      "metadata": {
        "colab": {
          "base_uri": "https://localhost:8080/"
        },
        "id": "mX102AXfGYki",
        "outputId": "54fe01e7-786b-411b-a972-4b7f04a52e8f"
      },
      "outputs": [
        {
          "output_type": "stream",
          "name": "stdout",
          "text": [
            "The user(s) with the most friends: 7787\n",
            "Degree_centrality: 0.44845740760240077\n",
            "The number of friends: 4259\n"
          ]
        }
      ],
      "source": [
        "# Calculate degree centralities\n",
        "deg_cent = nx.degree_centrality(G)\n",
        "\n",
        "# Find max value of degree centralities\n",
        "max_dc = max(list(deg_cent.values()))\n",
        "\n",
        "# Find user(s) who have the most friends\n",
        "for k, v in deg_cent.items():\n",
        "  if v == max_dc:\n",
        "    most_voted_users = k\n",
        "\n",
        "# Display user(s) who have the most friends\n",
        "print('The user(s) with the most friends: ' + str(most_voted_users))\n",
        "print('Degree_centrality: ' + str(max_dc))\n",
        "print('The number of friends: '+ str(len(list(G.neighbors(most_voted_users)))))"
      ]
    },
    {
      "cell_type": "markdown",
      "metadata": {
        "id": "L5T2KnX4HSTX"
      },
      "source": [
        "### With betweenness centrality"
      ]
    },
    {
      "cell_type": "code",
      "execution_count": 12,
      "metadata": {
        "id": "ANOP_cywmmXi"
      },
      "outputs": [],
      "source": [
        "# DO NOT CHANGE CODE IN THIS CELL\n",
        "# Create sub graph for calculating betweenness centrality\n",
        "random.seed(42)\n",
        "random_nodes = sample(list(G.nodes()), 1000)\n",
        "subG = G.subgraph(random_nodes)"
      ]
    },
    {
      "cell_type": "markdown",
      "metadata": {
        "id": "M79CKjafo8LT"
      },
      "source": [
        "<font color='red'><ins>Note</ins>: Student MUST calculate betweenness centralities for subG</font>"
      ]
    },
    {
      "cell_type": "code",
      "execution_count": 13,
      "metadata": {
        "colab": {
          "base_uri": "https://localhost:8080/"
        },
        "id": "T8Uj8USSHZxG",
        "outputId": "3e75e5c5-4526-45de-a843-cffeaf98664f"
      },
      "outputs": [
        {
          "output_type": "stream",
          "name": "stdout",
          "text": [
            "The user(s) with the most friends in sub network: 2498\n",
            "Betweenness_centrality: 0.11606447647120414\n",
            "The number of friends: 100\n"
          ]
        }
      ],
      "source": [
        "# Calculate betweenness centralities for subG\n",
        "bet_cent = nx.betweenness_centrality(subG)\n",
        "\n",
        "# Find max value of betweenness centralities\n",
        "max_bc = max(list(bet_cent.values()))\n",
        "\n",
        "# Find user(s) who have the most friends\n",
        "for k2, v2 in bet_cent.items():\n",
        "  if v2 == max_bc:\n",
        "    most_friends_users = k2 \n",
        "\n",
        "# Display user(s) who have the most friends\n",
        "print('The user(s) with the most friends in sub network: ' + str(most_friends_users))\n",
        "print('Betweenness_centrality: ' + str(max_bc))\n",
        "print('The number of friends: '+ str(len(list(subG.neighbors(most_friends_users)))))"
      ]
    },
    {
      "cell_type": "markdown",
      "metadata": {
        "id": "AaeW6Xa9Mn_-"
      },
      "source": [
        "## Question 4:\n",
        "Find abritary community in this social network and visualize it."
      ]
    },
    {
      "cell_type": "markdown",
      "metadata": {
        "id": "RZixp6B5NAiA"
      },
      "source": [
        "### Function find_abritary_clique()"
      ]
    },
    {
      "cell_type": "code",
      "execution_count": null,
      "metadata": {
        "id": "Mn1o7W5BxtEf"
      },
      "outputs": [],
      "source": [
        "def find_abritary_clique(G):\n",
        "    '''\n",
        "    Find abritary community in graph G\n",
        "\n",
        "    --- Inputs:\n",
        "        - G:    networkx.classes.graph.Graph\n",
        "                The graph you want to search the community\n",
        "\n",
        "    --- Returns:\n",
        "        Any one of the first 50 found communities of graph G\n",
        "    '''\n",
        "\n",
        "    #YOUR CODE HERE"
      ]
    },
    {
      "cell_type": "markdown",
      "metadata": {
        "id": "V6RpWM8ey46N"
      },
      "source": [
        "### Find abritary clique"
      ]
    },
    {
      "cell_type": "code",
      "execution_count": null,
      "metadata": {
        "id": "8j1HM68ay8Hr",
        "colab": {
          "base_uri": "https://localhost:8080/"
        },
        "outputId": "53c7e103-345e-463a-e7c4-fcd8912ede40"
      },
      "outputs": [
        {
          "output_type": "stream",
          "name": "stdout",
          "text": [
            "None\n"
          ]
        }
      ],
      "source": [
        "# Find abritary clique in this social network\n",
        "abritary_clique = find_abritary_clique(G)\n",
        "print(abritary_clique)"
      ]
    },
    {
      "cell_type": "markdown",
      "metadata": {
        "id": "NP5bk0ZczEZr"
      },
      "source": [
        "### Visualize it"
      ]
    },
    {
      "cell_type": "code",
      "execution_count": null,
      "metadata": {
        "id": "FP7k2uzFzG9f",
        "colab": {
          "base_uri": "https://localhost:8080/",
          "height": 134
        },
        "outputId": "ddc94e05-a930-4693-c143-744b617ec948"
      },
      "outputs": [
        {
          "output_type": "error",
          "ename": "SyntaxError",
          "evalue": "ignored",
          "traceback": [
            "\u001b[0;36m  File \u001b[0;32m\"<ipython-input-19-34c84d4d8e82>\"\u001b[0;36m, line \u001b[0;32m2\u001b[0m\n\u001b[0;31m    G_ac = #YOUR CODE HERE\u001b[0m\n\u001b[0m           ^\u001b[0m\n\u001b[0;31mSyntaxError\u001b[0m\u001b[0;31m:\u001b[0m invalid syntax\n"
          ]
        }
      ],
      "source": [
        "# Create subgraph from above abritary clique\n",
        "G_ac = #YOUR CODE HERE \n",
        "\n",
        "# Creat CircosPlot\n",
        "#YOUR CODE HERE\n",
        "\n",
        "# Visualize\n",
        "#YOUR CODE HERE"
      ]
    },
    {
      "cell_type": "markdown",
      "metadata": {
        "id": "XB9DcvXiz1-J"
      },
      "source": [
        "## Question 5:\n",
        "Builds a friends suggestion system for users on this social network using the concept of `open triangles`."
      ]
    },
    {
      "cell_type": "markdown",
      "metadata": {
        "id": "uN8CWbTd0Nra"
      },
      "source": [
        "### Function recommended_system"
      ]
    },
    {
      "cell_type": "code",
      "execution_count": null,
      "metadata": {
        "id": "R9A_7x2S0XUL"
      },
      "outputs": [],
      "source": [
        "def recommended_system(G, k):\n",
        "    '''\n",
        "    The function suggests top k pairs of users most likely to make friend.\n",
        "\n",
        "    --- Inputs:\n",
        "        - G:    networkx.classes.graph.Graph\n",
        "                The graph (social network) wants to make the recommendation\n",
        "\n",
        "        - k:    int\n",
        "                Top k pairs of users who need suggestion\n",
        "\n",
        "    --- Returns:\n",
        "        topk_pairs: list [tuple(str, str)]\n",
        "                    List of top k pairs of users most likely to make friend.\n",
        "    '''\n",
        "\n",
        "    #YOUR CODE HERE\n",
        "    \n"
      ]
    },
    {
      "cell_type": "markdown",
      "metadata": {
        "id": "2PEP43t31eay"
      },
      "source": [
        "### Check funtion"
      ]
    },
    {
      "cell_type": "code",
      "execution_count": null,
      "metadata": {
        "id": "WdnpocaG4ZJD"
      },
      "outputs": [],
      "source": [
        "# DO NOT CHANGE CODE IN THIS CELL\n",
        "# Create sub graph for recommendation\n",
        "random.seed(42)\n",
        "random_nodes = sample(list(G.nodes()), 5000)\n",
        "subG = G.subgraph(random_nodes)"
      ]
    },
    {
      "cell_type": "markdown",
      "metadata": {
        "id": "Y4DVPYgY4ZJK"
      },
      "source": [
        "<font color='red'><ins>Note</ins>: Student MUST create recommendation system with subG</font>"
      ]
    },
    {
      "cell_type": "code",
      "execution_count": null,
      "metadata": {
        "id": "bW-zwwNS1iqL"
      },
      "outputs": [],
      "source": [
        "top3_pairs = recommended_system(subG, 3)\n",
        "\n",
        "print('The top 3 user-pairs that can make friend each other: ')\n",
        "print(top3_pairs)"
      ]
    },
    {
      "cell_type": "markdown",
      "metadata": {
        "id": "jSx_2Qz51u2X"
      },
      "source": [
        "---\n",
        "<center>THE END</center>\n",
        "\n"
      ]
    }
  ],
  "metadata": {
    "colab": {
      "provenance": []
    },
    "kernelspec": {
      "display_name": "Python 3",
      "language": "python",
      "name": "python3"
    },
    "language_info": {
      "codemirror_mode": {
        "name": "ipython",
        "version": 3
      },
      "file_extension": ".py",
      "mimetype": "text/x-python",
      "name": "python",
      "nbconvert_exporter": "python",
      "pygments_lexer": "ipython3",
      "version": "3.8.8"
    }
  },
  "nbformat": 4,
  "nbformat_minor": 0
}